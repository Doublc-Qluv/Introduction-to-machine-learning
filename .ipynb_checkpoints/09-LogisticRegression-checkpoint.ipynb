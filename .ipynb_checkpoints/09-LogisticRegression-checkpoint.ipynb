{
 "cells": [
  {
   "cell_type": "markdown",
   "metadata": {},
   "source": [
    "# 01 什么是逻辑回归\n",
    "\n",
    "### 逻辑回归：解决分类问题\n",
    "\n",
    "将样本的特征和样呢发生的概率联系起来，概率是一个数\n",
    "\n",
    "- 线性回归\n",
    "    - $\\hat{y}=f(x)$\n",
    "- 逻辑回归\n",
    "    - $\\hat{p}=f(x)$\n",
    "- $\\hat{y}=\\left\\{\\begin{array}{ll}\n",
    "1, & \\hat{p} \\geq 0.5 \\\\\n",
    "0, & \\hat{p} \\leq 0.5\n",
    "\\end{array}\\right.$\n",
    "\n",
    "逻辑回归既可以看作是回归算法，也可以看作是分类算法\n",
    "\n",
    "通常作为分类算法用，只可解决二分类问题\n",
    "\n",
    "### 逻辑回归\n",
    "$$\\hat{y}=f(x) \\longrightarrow \\hat{y}=\\theta^{T} \\cdot x_{b} $$\n",
    "\n",
    "$$值域：(-\\infty, +\\infty)，概率的值域为[0, 1]$$\n",
    "\n",
    "$$\\downarrow $$\n",
    "\n",
    "#### Sigmoid函数\n",
    "$$\\hat{p}=\\sigma\\left(\\theta^{T} \\cdot x_{b}\\right)$$\n",
    "\n",
    "$$\\sigma(t)=\\frac{1}{1+e^{-t}}$$"
   ]
  },
  {
   "cell_type": "code",
   "execution_count": null,
   "metadata": {},
   "outputs": [],
   "source": []
  }
 ],
 "metadata": {
  "kernelspec": {
   "display_name": "Python [conda env:ana] *",
   "language": "python",
   "name": "conda-env-ana-py"
  },
  "language_info": {
   "codemirror_mode": {
    "name": "ipython",
    "version": 3
   },
   "file_extension": ".py",
   "mimetype": "text/x-python",
   "name": "python",
   "nbconvert_exporter": "python",
   "pygments_lexer": "ipython3",
   "version": "3.7.6"
  }
 },
 "nbformat": 4,
 "nbformat_minor": 4
}
