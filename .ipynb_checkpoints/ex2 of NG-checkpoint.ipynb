{
 "cells": [
  {
   "cell_type": "markdown",
   "metadata": {},
   "source": [
    "# logistic regression（逻辑回归）\n",
    "\n",
    "## 一、线性可分\n",
    "\n",
    "（案例图，假设函数，sigmoid函数y=0或y=1，损失函数，代价函数，梯度下降）\n",
    "\n",
    "（损失函数，梯度下降函数，维度）\n",
    "\n",
    "案例：根据学生的两门学生成绩，预测该学生是否被大学录取\n",
    "\n",
    "数据集：ex2data1.txt"
   ]
  },
  {
   "cell_type": "code",
   "execution_count": 1,
   "metadata": {},
   "outputs": [],
   "source": [
    "import numpy as np\n",
    "import pandas as pd\n",
    "import matplotlib.pyplot as plt"
   ]
  },
  {
   "cell_type": "code",
   "execution_count": 2,
   "metadata": {},
   "outputs": [
    {
     "data": {
      "text/html": [
       "<div>\n",
       "<style scoped>\n",
       "    .dataframe tbody tr th:only-of-type {\n",
       "        vertical-align: middle;\n",
       "    }\n",
       "\n",
       "    .dataframe tbody tr th {\n",
       "        vertical-align: top;\n",
       "    }\n",
       "\n",
       "    .dataframe thead th {\n",
       "        text-align: right;\n",
       "    }\n",
       "</style>\n",
       "<table border=\"1\" class=\"dataframe\">\n",
       "  <thead>\n",
       "    <tr style=\"text-align: right;\">\n",
       "      <th></th>\n",
       "      <th>Exam 1</th>\n",
       "      <th>Exam 2</th>\n",
       "      <th>Accepted</th>\n",
       "    </tr>\n",
       "  </thead>\n",
       "  <tbody>\n",
       "    <tr>\n",
       "      <th>0</th>\n",
       "      <td>34.623660</td>\n",
       "      <td>78.024693</td>\n",
       "      <td>0</td>\n",
       "    </tr>\n",
       "    <tr>\n",
       "      <th>1</th>\n",
       "      <td>30.286711</td>\n",
       "      <td>43.894998</td>\n",
       "      <td>0</td>\n",
       "    </tr>\n",
       "    <tr>\n",
       "      <th>2</th>\n",
       "      <td>35.847409</td>\n",
       "      <td>72.902198</td>\n",
       "      <td>0</td>\n",
       "    </tr>\n",
       "    <tr>\n",
       "      <th>3</th>\n",
       "      <td>60.182599</td>\n",
       "      <td>86.308552</td>\n",
       "      <td>1</td>\n",
       "    </tr>\n",
       "    <tr>\n",
       "      <th>4</th>\n",
       "      <td>79.032736</td>\n",
       "      <td>75.344376</td>\n",
       "      <td>1</td>\n",
       "    </tr>\n",
       "  </tbody>\n",
       "</table>\n",
       "</div>"
      ],
      "text/plain": [
       "      Exam 1     Exam 2  Accepted\n",
       "0  34.623660  78.024693         0\n",
       "1  30.286711  43.894998         0\n",
       "2  35.847409  72.902198         0\n",
       "3  60.182599  86.308552         1\n",
       "4  79.032736  75.344376         1"
      ]
     },
     "execution_count": 2,
     "metadata": {},
     "output_type": "execute_result"
    }
   ],
   "source": [
    "# 导入文件：\n",
    "path = 'ex2data1.txt'\n",
    "data = pd.read_csv(path,names = ['Exam 1','Exam 2','Accepted'])\n",
    "data.head()"
   ]
  },
  {
   "cell_type": "code",
   "execution_count": 3,
   "metadata": {},
   "outputs": [
    {
     "data": {
      "image/png": "[encoded data removed]",
      "text/plain": [
       "<Figure size 432x288 with 1 Axes>"
      ]
     },
     "metadata": {
      "needs_background": "light"
     },
     "output_type": "display_data"
    }
   ],
   "source": [
    "# 数据可视化：\n",
    "fig,ax = plt.subplots()\n",
    "\n",
    "ax.scatter(data[data['Accepted']==0]['Exam 1'],data[data['Accepted']==0]['Exam 2'],c = 'r',marker = 'x',label = 'y=0')\n",
    "ax.scatter(data[data['Accepted']==1]['Exam 1'],data[data['Accepted']==1]['Exam 2'],c = 'b',marker = 'o',label = 'y=1')\n",
    "ax.legend()\n",
    "\n",
    "ax.set(xlabel = 'exam1',\n",
    "      ylabel = 'exam2')\n",
    "plt.show()"
   ]
  },
  {
   "cell_type": "code",
   "execution_count": 4,
   "metadata": {},
   "outputs": [
    {
     "data": {
      "text/plain": [
       "(100, 1)"
      ]
     },
     "execution_count": 4,
     "metadata": {},
     "output_type": "execute_result"
    }
   ],
   "source": [
    "# 损失函数：\n",
    "def get_Xy(data):\n",
    "\n",
    "    data.insert(0,'ones',1)\n",
    "    X_ = data.iloc[:,0:-1]\n",
    "    X = X_.values\n",
    "\n",
    "    y_ = data.iloc[:,-1]\n",
    "    y = y_.values.reshape(len(y_),1)\n",
    "\n",
    "    return X,y\n",
    "\n",
    "X,y = get_Xy(data)\n",
    "X.shape\n",
    "y.shape"
   ]
  },
  {
   "cell_type": "code",
   "execution_count": 6,
   "metadata": {},
   "outputs": [
    {
     "name": "stdout",
     "output_type": "stream",
     "text": [
      "0.6931471805599453\n"
     ]
    }
   ],
   "source": [
    "# 定义sigmoid函数：\n",
    "def sigmoid(z):\n",
    "\n",
    "    return 1/(1 + np.exp(-z))\n",
    "\n",
    "# 定义代价函数：\n",
    "def costFunction(X,y,theta):\n",
    "\n",
    "    A = sigmoid(X@theta)\n",
    "\n",
    "    first = y * np.log(A)\n",
    "    second = (1-y)* np.log(1 - A)\n",
    "\n",
    "    return -np.sum (first + second)/len(X)\n",
    "\n",
    "theta = np.zeros((3,1))\n",
    "theta.shape\n",
    "\n",
    "cost_init = costFunction(X,y,theta)\n",
    "print(cost_init)"
   ]
  },
  {
   "cell_type": "code",
   "execution_count": 7,
   "metadata": {
    "scrolled": true
   },
   "outputs": [
    {
     "name": "stdout",
     "output_type": "stream",
     "text": [
      "1.9886538578930086\n",
      "3.078170019864155\n",
      "5.487009635362496\n",
      "1.851943366133264\n",
      "2.9551289424083613\n",
      "5.438688730769618\n",
      "1.8046128090728513\n",
      "2.8312715776074038\n",
      "5.3886531633606145\n",
      "1.7561538117121556\n",
      "2.7066763807478127\n",
      "5.3365673644957425\n",
      "1.706280704769481\n",
      "2.581850851905427\n",
      "5.281774101800353\n",
      "1.654412995851206\n",
      "2.4578430947435757\n",
      "5.223255119969365\n",
      "1.5996612097145573\n",
      "2.3362477519414626\n",
      "5.159653459570274\n",
      "1.5408871901849062\n",
      "2.2190492038468914\n",
      "5.089387088751128\n",
      "1.4768567851081462\n",
      "2.108268509053649\n",
      "5.010845104587983\n",
      "1.4064493632805852\n",
      "2.0054338903832725\n",
      "4.9225734611717336\n",
      "1.3288041261254455\n",
      "1.9109646054893648\n",
      "4.823257484826611\n",
      "1.2432202250971691\n",
      "1.8235866121521422\n",
      "4.711246821296763\n",
      "1.1486277932139572\n",
      "1.7397667362448002\n",
      "4.5832574004573505\n",
      "1.0423478306006702\n",
      "1.6525865746034045\n",
      "4.430932868329269\n",
      "0.9166267386002215\n",
      "1.5465331276550864\n",
      "4.224624720512682\n",
      "0.7330944584991153\n",
      "4.209832575691547\n",
      "0.6472609974818119\n",
      "2.383565184191488\n",
      "0.3219694445813797\n",
      "3.1737936594526563\n",
      "1.2383740899763556\n",
      "0.23891500688933143\n",
      "0.8791412473485064\n",
      "1.362120503286264\n",
      "0.30705368825726914\n",
      "0.7623003158179189\n",
      "0.2623587340804791\n",
      "0.5298433244003478\n",
      "0.38582920030888734\n",
      "2.9764161530453195\n",
      "1.1205038847610753\n",
      "0.662296847585314\n",
      "0.24559831174931357\n",
      "0.4849126723808178\n",
      "0.23444945831374833\n",
      "2.175624429510816\n",
      "1.0834751159364622\n",
      "1.0253749092821183\n",
      "0.9729049605610627\n",
      "0.22829909509886265\n",
      "0.28518926551759316\n",
      "0.6987992219397252\n",
      "0.23739958075268192\n",
      "0.6401778840310139\n",
      "0.866056797635354\n",
      "0.5387546648955693\n",
      "0.7262615034599079\n",
      "0.675263548821176\n",
      "0.7085426290513985\n",
      "0.7347192744422508\n",
      "0.7291715206117065\n",
      "0.7435136772159343\n",
      "0.7624127864189066\n",
      "0.7774002836904863\n",
      "0.7710650398371065\n",
      "0.7639200009203873\n",
      "0.755802443311769\n",
      "0.7464883729845936\n",
      "0.7356537915982726\n",
      "0.7227964027196712\n",
      "0.7070533492155218\n",
      "0.6866728400966181\n",
      "0.6567495269776312\n",
      "0.6028815046757032\n",
      "0.5970688419813895\n",
      "0.5951287325806146\n",
      "0.5930728599094128\n",
      "0.5909011076172659\n",
      "0.5886137532795985\n",
      "0.586211475200942\n",
      "0.5836953554604711\n",
      "0.5810668787570731\n",
      "0.5783279266903366\n",
      "0.5754807672161844\n",
      "0.5725280391448674\n",
      "0.5694727317003125\n",
      "0.5663181593260712\n",
      "0.5630679320955148\n",
      "0.5597259222518303\n",
      "0.5562962275561368\n",
      "0.552783132248811\n",
      "0.5491910665215239\n",
      "0.5455245654486864\n",
      "0.5417882283340953\n",
      "0.5379866793914033\n",
      "0.5341245305993438\n",
      "0.530206347460598\n",
      "0.5262366182554855\n",
      "0.5222197272278705\n",
      "0.5181599319809181\n",
      "0.5140613452038832\n",
      "0.5099279207060156\n",
      "0.5057634436063115\n",
      "0.5015715244218627\n",
      "0.4973555967159438\n",
      "0.49311891790921847\n",
      "0.48886457282287765\n",
      "0.48459547950858317\n",
      "0.480314396923885\n",
      "0.4760239340297062\n",
      "0.47172655991537943\n",
      "0.4674246145930412\n",
      "0.46312032014407356\n",
      "0.4588157919435724\n",
      "0.45451304973188866\n",
      "0.45021402834406254\n",
      "0.4459205879472819\n",
      "0.4416345236722467\n",
      "0.4373575745564884\n",
      "0.43309143174572184\n",
      "0.42883774592325763\n",
      "0.42459813395781815\n",
      "0.4203741847762538\n",
      "0.4161674644806673\n",
      "0.41197952073910743\n",
      "0.4078118864858397\n",
      "0.4036660829713795\n",
      "0.3995436222044815\n",
      "0.3954460088282867\n",
      "0.3913747414711288\n",
      "0.3873313136095166\n",
      "0.3833172139769154\n",
      "0.3793339265469015\n",
      "0.3753829301142125\n",
      "0.3714656974919061\n",
      "0.36758369433762866\n",
      "0.3637383776171803\n",
      "0.3599311937099627\n",
      "0.3561635761578455\n",
      "0.35243694305742873\n",
      "0.3487526940957891\n",
      "0.34511220723119285\n",
      "0.34151683502386787\n",
      "0.3379679006267777\n",
      "0.33446669345327357\n",
      "0.33101446454687666\n",
      "0.32761242168779603\n",
      "0.32426172428132\n",
      "0.32096347808402265\n",
      "0.31771872983445126\n",
      "0.3145284618648844\n",
      "0.3113935867794001\n",
      "0.30831494229034856\n",
      "0.3052932863096034\n",
      "0.30232929239225975\n",
      "0.2994235456288483\n",
      "0.29657653907682713\n",
      "0.29378867081374316\n",
      "0.29106024168293326\n",
      "0.28839145378816544\n",
      "0.28578240977740493\n",
      "0.2832331129377614\n",
      "0.28074346810529976\n",
      "0.27831328337452166\n",
      "0.2759422725748365\n",
      "0.2736300584650352\n",
      "0.27137617658270263\n",
      "0.26918007967386287\n",
      "0.26704114261970446\n",
      "0.26495866777121174\n",
      "0.2629318906000059\n",
      "0.2609599855736037\n",
      "0.259042072165801\n",
      "0.2571772209176382\n",
      "0.25536445947091885\n",
      "0.25360277850380997\n",
      "0.25189113750689224\n",
      "0.25022847034711565\n",
      "0.2486136905764411\n",
      "[[-23.7744689 ]\n",
      " [  0.2068445 ]\n",
      " [  0.19996035]]\n"
     ]
    }
   ],
   "source": [
    "# 梯度下降：\n",
    "def gradientDescent(X, y, theta, iters,alpha):\n",
    "    m = len(X)\n",
    "    costs = []\n",
    "\n",
    "    for i in range(iters):\n",
    "        A = sigmoid(X@theta)\n",
    "        theta = theta - (alpha/m) * X.T@(A - y)\n",
    "        cost = costFunction(X, y, theta)\n",
    "        costs.append(cost)\n",
    "        if i % 1000 == 0:\n",
    "            print(cost)\n",
    "    return costs,theta\n",
    "alpha = 0.004\n",
    "iters = 200000\n",
    "costs,theta_final = gradientDescent(X,y,theta,iters,alpha)\n",
    "\n",
    "print(theta_final)"
   ]
  },
  {
   "cell_type": "code",
   "execution_count": 8,
   "metadata": {},
   "outputs": [
    {
     "name": "stdout",
     "output_type": "stream",
     "text": [
      "0.6\n"
     ]
    }
   ],
   "source": [
    "# 定义预测函数：\n",
    "def predict(X, theta):\n",
    "\n",
    "    prob = sigmoid(X @ theta)\n",
    "\n",
    "    return [1 if x >= 0.5 else 0 for x in prob]\n",
    "# 正确率：\n",
    "y_ = np.array(predict(X, theta))\n",
    "y_pre = y_.reshape(len(y_), 1)\n",
    "\n",
    "acc = np.mean(y_pre == y)\n",
    "\n",
    "print(acc)"
   ]
  },
  {
   "cell_type": "code",
   "execution_count": 9,
   "metadata": {},
   "outputs": [
    {
     "data": {
      "image/png": "[encoded data removed]",
      "text/plain": [
       "<Figure size 432x288 with 1 Axes>"
      ]
     },
     "metadata": {
      "needs_background": "light"
     },
     "output_type": "display_data"
    }
   ],
   "source": [
    "# 决策边界：\n",
    "coef1 = - theta_final[0,0]/theta_final[2,0]\n",
    "coef2 = - theta_final[1,0]/theta_final[2,0]\n",
    "\n",
    "x = np.linspace(20,100,100)\n",
    "f = coef1 + coef2*x\n",
    "\n",
    "fig,ax = plt.subplots()\n",
    "ax.scatter(data[data['Accepted']==0]['Exam 1'],data[data['Accepted']==0]['Exam 2'],c = 'r',marker = 'x',label = 'y=0')\n",
    "ax.scatter(data[data['Accepted']==1]['Exam 1'],data[data['Accepted']==1]['Exam 2'],c = 'b',marker = 'o',label = 'y=1')\n",
    "ax.legend()\n",
    "ax.set(xlabel = 'exam1',\n",
    "      ylabel = 'exam2')\n",
    "\n",
    "ax.plot(x,f,c='g')\n",
    "plt.show()\n"
   ]
  },
  {
   "cell_type": "markdown",
   "metadata": {},
   "source": [
    "## 二、线性不可分\n",
    "\n",
    "案例：设想你是工厂的生产主管，你要决定是否芯片要被接受或者抛弃\n",
    "\n",
    "数据集：ex2data2.txt，芯片在两次测试中的测试结果"
   ]
  }
 ],
 "metadata": {
  "kernelspec": {
   "display_name": "Python 3",
   "language": "python",
   "name": "python3"
  },
  "language_info": {
   "codemirror_mode": {
    "name": "ipython",
    "version": 3
   },
   "file_extension": ".py",
   "mimetype": "text/x-python",
   "name": "python",
   "nbconvert_exporter": "python",
   "pygments_lexer": "ipython3",
   "version": "3.6.8"
  }
 },
 "nbformat": 4,
 "nbformat_minor": 2
}
