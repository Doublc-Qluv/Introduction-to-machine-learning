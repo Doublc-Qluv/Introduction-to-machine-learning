{
 "cells": [
  {
   "cell_type": "markdown",
   "metadata": {},
   "source": [
    "# 01 准确度的陷阱和混淆矩阵\n",
    "\n",
    "## 分类准确度问题\n",
    "一个癌症预测系统，输入体检信息，可以判断是否有癌症，如果一个系统的预测准确度是99.9%，而癌症的概率只有0.01%，那预测所有人都是健康的，可以达到99.99%的准确率，即这个预测系统是失败的\n",
    "\n",
    "如此产生的原因是：对于极度偏斜(Skewed Data)的数据，只使用分类准确度是远远不够的\n",
    "\n",
    "使用混淆矩阵做进一步的分析\n",
    "\n",
    "## 混淆矩阵 (Confusion matrix)\n",
    "对于二分类问题\n",
    "\n",
    "0-Ngeative\n",
    "\n",
    "1-Positive\n",
    "\n",
    "xx:预测结果预测值\n",
    "\n",
    "\n",
    "|真实值\\\\预测值|0|1|\n",
    "|:----:|:----:|:----:|\n",
    "|0|TN|FP|\n",
    "|1|FN|TP|\n"
   ]
  },
  {
   "cell_type": "markdown",
   "metadata": {},
   "source": [
    "# 02 精准率和召回率\n",
    "\n",
    "在癌症预测系统中对于10000个病人进行分类，混淆矩阵如下：\n",
    "\n",
    "|真实值\\\\预测值|0|1|\n",
    "|:----:|:----:|:----:|\n",
    "|0|9978|12|\n",
    "|1|2|8|\n",
    "\n",
    "精准率(预测为1的正确数在预测为1中的占比):$precision = \\frac{TP}{TP+FP}$\n",
    "\n",
    "精准率 = 8/(8+12) = 40%\n",
    "\n",
    "召回率(预测为1的正确数在真实为1中的占比):$recall = \\frac{TP}{TP+FN}$\n",
    "\n",
    "召回率 = 8/(8+2) = 80%"
   ]
  },
  {
   "cell_type": "code",
   "execution_count": null,
   "metadata": {},
   "outputs": [],
   "source": []
  }
 ],
 "metadata": {
  "kernelspec": {
   "display_name": "Python [conda env:torch] *",
   "language": "python",
   "name": "conda-env-torch-py"
  },
  "language_info": {
   "codemirror_mode": {
    "name": "ipython",
    "version": 3
   },
   "file_extension": ".py",
   "mimetype": "text/x-python",
   "name": "python",
   "nbconvert_exporter": "python",
   "pygments_lexer": "ipython3",
   "version": "3.7.6"
  }
 },
 "nbformat": 4,
 "nbformat_minor": 4
}
