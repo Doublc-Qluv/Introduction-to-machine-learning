{
 "cells": [
  {
   "cell_type": "markdown",
   "metadata": {},
   "source": [
    "# 01 LinearRegression 线性回归\n",
    "- 解决回归问题\n",
    "- 思想简单，容易实现\n",
    "- 许多强大的非线性模型的基础\n",
    "- 结果具有很好的可解释性\n",
    "- 蕴含机器学习中的很多思想"
   ]
  },
  {
   "cell_type": "markdown",
   "metadata": {},
   "source": [
    "## 简单线性回归\n",
    "\n",
    "假设我们找到了最佳拟合的直线方程：$y=ax+b$,则对于每一个样本点$x^{(i)}$，根据直线方程的预测值为：$\\hat{y}^{(i)}=ax^{(i)}+b$,同时对应的真值为$y^{(i)}$\n",
    "\n",
    "我们希望$y^{(i)}$和$\\hat{y}^{(i)}$的差距尽量小，表达$y^{(i)}$和$\\hat{y}^{(i)}$的差距：\n",
    "\n",
    "<del>$y^{(i)} - \\hat{y}^{(i)}$</del>  有正负\n",
    "\n",
    "<del>$y^{(i)} - \\hat{y}^{(i)}$</del>  不是出处可导\n",
    "\n",
    "$(y^{(i)} - \\hat{y}^{(i)})^{2}$\n",
    "\n",
    "当考虑所有样本：$$\\sum_{i=1}^{m}{(y^{(i)} - \\hat{y}^{(i)})^{2}}$$其中$\\hat{y}^{(i)}=ax^{(i)}+b$ 带入即：\n",
    "\n",
    "简单线性回归的目标：使得$\\sum_{i=1}^{m}{(y^{(i)} - ax^{(i)} - b)^{2}}$尽可能小"
   ]
  },
  {
   "cell_type": "markdown",
   "metadata": {},
   "source": [
    "## $\\color{red}{一类机器学习算法的基本思路}$\n",
    "\n",
    "找到一些参数，使得模型最大拟合所给的数据（使得损失函数(loss function)最小，或者效用函数(utility function)最大）\n",
    "\n",
    "通过分析问题，确定问题的损失函数或者效用函数\n",
    "\n",
    "通过最优化损失函数或者效用函数，获得机器学习的模型\n",
    "\n",
    "可以说，所有参数学习的算法都是这样的套路：\n",
    "- 线性回归\n",
    "- 多项式回归\n",
    "- 逻辑回归\n",
    "- SVM\n",
    "- 神经网络\n",
    "- ……\n",
    "\n",
    "最优化原理、凸优化"
   ]
  },
  {
   "cell_type": "markdown",
   "metadata": {},
   "source": [
    "简单线性回归的目标：使得$\\sum_{i=1}^{m}{(y^{(i)} - ax^{(i)} - b)}$尽可能小\n",
    "\n",
    "典型的最小二乘法问题：最小化误差的平方\n",
    "\n",
    "$$\n",
    "\\begin{align}\n",
    "a &=\\frac{\\sum_{i=1}^{m}{(x^{(i)}-\\bar{x})(y^{(i)}-\\bar{y})}}{\\sum_{i=1}^{m}(x^{(i)}-\\bar{x})^{2}}\\\\\n",
    "b &=\\bar{y}-a\\bar{x}\n",
    "\\end{align}\n",
    "$$"
   ]
  },
  {
   "cell_type": "markdown",
   "metadata": {},
   "source": [
    "# 02 最小二乘法"
   ]
  },
  {
   "cell_type": "markdown",
   "metadata": {},
   "source": [
    "简单线性回归的目标：使得$\\sum_{i=1}^{m}{(y^{(i)} - ax^{(i)} - b)^{2}}$尽可能小\n",
    "-->$J(a,b)$\n",
    "\n",
    "b:\n",
    "$$\n",
    "\\begin{align}\n",
    "\\frac {\\partial J(a,b) } {\\partial b }&= \\sum_{i=1}^{m}{2(y^{(i)} - ax^{(i)} - b)(-1)} \\\\\n",
    "&= \\sum_{i=1}^{m}{(y^{(i)} - ax^{(i)} - b)}\\\\\n",
    "&= \\sum_{i=1}^{m}{y^{(i)}}-a\\sum_{i=1}^{m}{x^{(i)}}-\\sum_{i=1}^{m}{b}\\\\\n",
    "&= \\sum_{i=1}^{m}{y^{(i)}}-a\\sum_{i=1}^{m}{x^{(i)}}-mb= 0\\\\\n",
    "\\longrightarrow mb &= \\sum_{i=1}^{m}{y^{(i)}}-a\\sum_{i=1}^{m}{x^{(i)}}\\\\\n",
    "\\longrightarrow b &= \\bar{y}-a\\bar{x} \n",
    "\\end{align}$$\n",
    "\n",
    "a:\n",
    "$$\n",
    "\\begin{align}\n",
    "\\frac {\\partial J(a,b) } {\\partial a } &= \\sum_{i=1}^{m}{2(y^{(i)} - ax^{(i)} - b)(-x^{(i)})} \\\\\n",
    "\\end{align}$$"
   ]
  },
  {
   "cell_type": "code",
   "execution_count": null,
   "metadata": {},
   "outputs": [],
   "source": []
  }
 ],
 "metadata": {
  "kernelspec": {
   "display_name": "Python 3",
   "language": "python",
   "name": "python3"
  },
  "language_info": {
   "codemirror_mode": {
    "name": "ipython",
    "version": 3
   },
   "file_extension": ".py",
   "mimetype": "text/x-python",
   "name": "python",
   "nbconvert_exporter": "python",
   "pygments_lexer": "ipython3",
   "version": "3.7.6"
  }
 },
 "nbformat": 4,
 "nbformat_minor": 4
}
