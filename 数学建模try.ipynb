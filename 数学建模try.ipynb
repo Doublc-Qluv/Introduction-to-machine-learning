{
 "cells": [
  {
   "cell_type": "markdown",
   "metadata": {},
   "source": [
    "# 数学建模try"
   ]
  },
  {
   "cell_type": "markdown",
   "metadata": {},
   "source": [
    "# 一般方程"
   ]
  },
  {
   "cell_type": "code",
   "execution_count": 1,
   "metadata": {},
   "outputs": [
    {
     "name": "stdout",
     "output_type": "stream",
     "text": [
      "[pi]\n",
      "[(-3*pi/8, 3*pi/8), (-pi/8, pi/8), (5*pi/8, 3*pi/8), (7*pi/8, pi/8)]\n",
      "[(-1.17809724509617, 1.17809724509617), (-0.392699081698724, 0.392699081698724), (1.96349540849362, 1.17809724509617), (2.74889357189107, 0.392699081698724)]\n"
     ]
    }
   ],
   "source": [
    "from sympy import *\n",
    "\n",
    "## 一元\n",
    "x = symbols('x')  # 声明变量x，x可以是字符串表示单词\n",
    "y = sin(x) / x  # 表达式\n",
    "## 求表达式的值\n",
    "result = solve(y, x)\n",
    "print(result)\n",
    "\n",
    "## 多元\n",
    "a = symbols('a')\n",
    "b = symbols('b')\n",
    "## 解析解\n",
    "print(solve([sin(a+b), cos(a-3*b)], [a, b]))\n",
    "## 数值解在3后加一点即可\n",
    "numResult = solve([sin(a+b), cos(a-3.*b)], [a, b])\n",
    "print(numResult)\n"
   ]
  },
  {
   "cell_type": "markdown",
   "metadata": {},
   "source": [
    "# 常微分方程组\n",
    "## 方程"
   ]
  },
  {
   "cell_type": "code",
   "execution_count": 2,
   "metadata": {},
   "outputs": [
    {
     "name": "stdout",
     "output_type": "stream",
     "text": [
      "Eq(f(x), (C1 + C2*x)*exp(x) + cos(x)/2)\n"
     ]
    }
   ],
   "source": [
    "init_printing()\n",
    "# 定义符号常量x 与 f(x) g(x)。这里的f g还可以用其他字母替换，用于表示函数\n",
    "x, y = symbols('x y')\n",
    "f = symbols('f', cls=Function)\n",
    "# 用diffeq代表微分方程： f''(x) − 2f'(x) + f(x) = sin(x)\n",
    "diffeq = Eq(f(x).diff(x, x) - 2 * f(x).diff(x) + f(x), sin(x))\n",
    "# 调用dsolve函数,返回一个Eq对象，hint控制精度\n",
    "result = dsolve(diffeq, f(x))\n",
    "print(result)\n"
   ]
  },
  {
   "cell_type": "markdown",
   "metadata": {},
   "source": [
    "## 方程组"
   ]
  },
  {
   "cell_type": "code",
   "execution_count": 3,
   "metadata": {},
   "outputs": [
    {
     "name": "stdout",
     "output_type": "stream",
     "text": [
      "Eq(x(t), C1*x0(t) + C2*x0(t)*Integral(8*exp(Integral(7*t, t))*exp(Integral(12*t, t))/x0(t)**2, t))\n",
      "Eq(y(t), C1*y0(t) + C2*(y0(t)*Integral(8*exp(Integral(7*t, t))*exp(Integral(12*t, t))/x0(t)**2, t) + exp(Integral(7*t, t))*exp(Integral(12*t, t))/x0(t)))\n"
     ]
    }
   ],
   "source": [
    "init_printing()\n",
    "t = symbols('t')\n",
    "x, y = symbols('x, y', cls=Function)\n",
    "f1 = Eq(x(t).diff(t), 12*t*x(t) + 8*y(t))\n",
    "f2 = Eq(Derivative(y(t), t), 21*x(t) + 7*t*y(t))\n",
    "eq = (f1, f2)\n",
    "results = dsolve(eq)\n",
    "for result in results:\n",
    "    print(result)"
   ]
  },
  {
   "cell_type": "markdown",
   "metadata": {},
   "source": [
    "# eg.\n",
    "\n",
    "一个圆经过点$(\\sqrt{3}(2r+t)/4，(2r+t)/4),(r, 0)$,\n",
    "另一个圆经过点$(\\sqrt{3}(2r+t)/4，(2r+t)/4)，(\\sqrt{3}(2r-t)/4，-(2*r-t)/4)$\n",
    "分别求两圆心坐标。\n",
    "\n"
   ]
  },
  {
   "cell_type": "code",
   "execution_count": 4,
   "metadata": {},
   "outputs": [
    {
     "name": "stdout",
     "output_type": "stream",
     "text": [
      "[((-64*sqrt(3)*r**3*t + 112*r**3*t - 48*sqrt(3)*r**2*t**2 + 76*r**2*t**2 - 8*sqrt(3)*r*t**3 + 24*r*t**3 + 3*t**4 + (r/4 + t/8 - sqrt(-256*sqrt(3)*r**6 + 448*r**6 - 2688*r**5*t + 1536*sqrt(3)*r**5*t - 3232*r**4*t**2 + 1888*sqrt(3)*r**4*t**2 - 1472*r**3*t**3 + 848*sqrt(3)*r**3*t**3 - 304*r**2*t**4 + 200*sqrt(3)*r**2*t**4 - 36*r*t**5 + 20*sqrt(3)*r*t**5 - 3*t**6)/(8*(-8*r**2 + 4*sqrt(3)*r**2 - 4*r*t + 2*sqrt(3)*r*t - t**2)))*(-112*r**3 + 64*sqrt(3)*r**3 - 104*r**2*t + 64*sqrt(3)*r**2*t - 36*r*t**2 + 16*sqrt(3)*r*t**2 - 6*t**3))/(2*(-208*r**3 + 120*sqrt(3)*r**3 - 144*r**2*t + 84*sqrt(3)*r**2*t - 36*r*t**2 + 18*sqrt(3)*r*t**2 + 3*sqrt(3)*t**3)), r/4 + t/8 - sqrt(-256*sqrt(3)*r**6 + 448*r**6 - 2688*r**5*t + 1536*sqrt(3)*r**5*t - 3232*r**4*t**2 + 1888*sqrt(3)*r**4*t**2 - 1472*r**3*t**3 + 848*sqrt(3)*r**3*t**3 - 304*r**2*t**4 + 200*sqrt(3)*r**2*t**4 - 36*r*t**5 + 20*sqrt(3)*r*t**5 - 3*t**6)/(8*(-8*r**2 + 4*sqrt(3)*r**2 - 4*r*t + 2*sqrt(3)*r*t - t**2))), ((-64*sqrt(3)*r**3*t + 112*r**3*t - 48*sqrt(3)*r**2*t**2 + 76*r**2*t**2 - 8*sqrt(3)*r*t**3 + 24*r*t**3 + 3*t**4 + (r/4 + t/8 + sqrt(-256*sqrt(3)*r**6 + 448*r**6 - 2688*r**5*t + 1536*sqrt(3)*r**5*t - 3232*r**4*t**2 + 1888*sqrt(3)*r**4*t**2 - 1472*r**3*t**3 + 848*sqrt(3)*r**3*t**3 - 304*r**2*t**4 + 200*sqrt(3)*r**2*t**4 - 36*r*t**5 + 20*sqrt(3)*r*t**5 - 3*t**6)/(8*(-8*r**2 + 4*sqrt(3)*r**2 - 4*r*t + 2*sqrt(3)*r*t - t**2)))*(-112*r**3 + 64*sqrt(3)*r**3 - 104*r**2*t + 64*sqrt(3)*r**2*t - 36*r*t**2 + 16*sqrt(3)*r*t**2 - 6*t**3))/(2*(-208*r**3 + 120*sqrt(3)*r**3 - 144*r**2*t + 84*sqrt(3)*r**2*t - 36*r*t**2 + 18*sqrt(3)*r*t**2 + 3*sqrt(3)*t**3)), r/4 + t/8 + sqrt(-256*sqrt(3)*r**6 + 448*r**6 - 2688*r**5*t + 1536*sqrt(3)*r**5*t - 3232*r**4*t**2 + 1888*sqrt(3)*r**4*t**2 - 1472*r**3*t**3 + 848*sqrt(3)*r**3*t**3 - 304*r**2*t**4 + 200*sqrt(3)*r**2*t**4 - 36*r*t**5 + 20*sqrt(3)*r*t**5 - 3*t**6)/(8*(-8*r**2 + 4*sqrt(3)*r**2 - 4*r*t + 2*sqrt(3)*r*t - t**2)))] \n",
      "\n",
      " ⎡⎛       ⎛         ___________________________________      ⎞                 \n",
      "⎢⎜       ⎜        ╱                     ⎛   2      2⎞       ⎟                 \n",
      "⎢⎜       ⎜  3⋅t⋅╲╱  (2⋅r - t)⋅(2⋅r + t)⋅⎝4⋅r  + 3⋅t ⎠    3⋅t⎟                 \n",
      "⎢⎜2⋅√3⋅r⋅⎜- ────────────────────────────────────────── + ───⎟         ________\n",
      "⎢⎜       ⎜                 ⎛   2      2⎞                  4 ⎟        ╱        \n",
      "⎢⎜       ⎝               4⋅⎝4⋅r  + 3⋅t ⎠                    ⎠  3⋅t⋅╲╱  (2⋅r - \n",
      "⎢⎜───────────────────────────────────────────────────────────, ───────────────\n",
      "⎢⎜                            3⋅t                                             \n",
      "⎣⎝                                                                          4⋅\n",
      "\n",
      "                               ⎞  ⎛       ⎛       ____________________________\n",
      "                               ⎟  ⎜       ⎜      ╱                     ⎛   2  \n",
      "                               ⎟  ⎜       ⎜3⋅t⋅╲╱  (2⋅r - t)⋅(2⋅r + t)⋅⎝4⋅r  +\n",
      "___________________________    ⎟  ⎜2⋅√3⋅r⋅⎜───────────────────────────────────\n",
      "             ⎛   2      2⎞     ⎟  ⎜       ⎜               ⎛   2      2⎞       \n",
      "t)⋅(2⋅r + t)⋅⎝4⋅r  + 3⋅t ⎠    t⎟  ⎜       ⎝             4⋅⎝4⋅r  + 3⋅t ⎠       \n",
      "─────────────────────────── + ─⎟, ⎜───────────────────────────────────────────\n",
      "⎛   2      2⎞                 4⎟  ⎜                           3⋅t             \n",
      "⎝4⋅r  + 3⋅t ⎠                  ⎠  ⎝                                           \n",
      "\n",
      "_______      ⎞                                                  ⎞⎤\n",
      "    2⎞       ⎟                                                  ⎟⎥\n",
      " 3⋅t ⎠    3⋅t⎟                                                  ⎟⎥\n",
      "─────── + ───⎟           ___________________________________    ⎟⎥\n",
      "           4 ⎟          ╱                     ⎛   2      2⎞     ⎟⎥\n",
      "             ⎠    3⋅t⋅╲╱  (2⋅r - t)⋅(2⋅r + t)⋅⎝4⋅r  + 3⋅t ⎠    t⎟⎥\n",
      "──────────────, - ────────────────────────────────────────── + ─⎟⎥\n",
      "                                 ⎛   2      2⎞                 4⎟⎥\n",
      "                               4⋅⎝4⋅r  + 3⋅t ⎠                  ⎠⎦\n"
     ]
    }
   ],
   "source": [
    "# 导入sympy库\n",
    "from sympy import *\n",
    "\n",
    "# 定义字符\n",
    "a, b,  r, t = symbols('a b r t')\n",
    "\n",
    "#将所有项移至左端，右端为零\n",
    "eq1 = (sqrt(3)*(2*r+t)/4 - a)**2 + ((2*r+t)/4 - b)**2 - r**2\n",
    "eq2 = (r - a)**2 + b**2 - r**2\n",
    "eq3 = (sqrt(3)*(2*r-t)/4 - a)**2 + ((2*r-t)/4 + b)**2 - r**2\n",
    "\n",
    "# 求解函数，[eq1, eq2]为函数，[a, b]为未知数\n",
    "c = solve([eq1, eq2], [a, b])\n",
    "d = solve([eq1, eq3], [a, b])\n",
    "\n",
    "# 输出结果，pretty为手写形式函数，更易读\n",
    "print(c, '\\n'*2, pretty(d))"
   ]
  },
  {
   "cell_type": "code",
   "execution_count": null,
   "metadata": {},
   "outputs": [],
   "source": []
  },
  {
   "cell_type": "markdown",
   "metadata": {},
   "source": [
    "# python中使用scipy.integrate求积分、二重积分、三重积分"
   ]
  },
  {
   "cell_type": "code",
   "execution_count": 7,
   "metadata": {},
   "outputs": [
    {
     "name": "stdout",
     "output_type": "stream",
     "text": [
      "积分结果： 2.0\n",
      "二重积分结果： -0.4989998520503062\n",
      "三重积分结果： -0.05881880054964516\n"
     ]
    }
   ],
   "source": [
    "import numpy as np\n",
    "from scipy.integrate import tplquad, dblquad, quad # 三重积分，二重积分，积分\n",
    "\n",
    "#积分\n",
    "val1, err1 = quad(\n",
    "    lambda x: np.sin(x),  #函数\n",
    "    0,  #x下界0\n",
    "    np.pi)  #x上界pi\n",
    "print('积分结果：', val1)\n",
    "\n",
    "#二重积分\n",
    "val2, err2 = dblquad(\n",
    "    lambda y, x: np.sin(x) * np.cos(y),  #函数\n",
    "    0,  #x下界0\n",
    "    np.pi,  #x上界pi\n",
    "    lambda x: x**2,  #y下界x^2\n",
    "    lambda x: 2 * x)  #y上界2*x\n",
    "print('二重积分结果：', val2)\n",
    "\n",
    "#三重积分\n",
    "val3, err3 = tplquad(\n",
    "    lambda z, y, x: 1 / (np.sqrt(x + y**2 + z**3)),  #函数\n",
    "    0,  #x下界0\n",
    "    1,  #x上界1\n",
    "    lambda x: -x,  #y下界-x\n",
    "    lambda x: x,  #y上界x\n",
    "    lambda x, y: np.sin(x),  #z下界sin(x)\n",
    "    lambda x, y: x + 2 * y)  #z上界x+2*y\n",
    "print('三重积分结果：', val3)"
   ]
  },
  {
   "cell_type": "code",
   "execution_count": null,
   "metadata": {},
   "outputs": [],
   "source": []
  }
 ],
 "metadata": {
  "kernelspec": {
   "display_name": "Python [conda env:ana] *",
   "language": "python",
   "name": "conda-env-ana-py"
  },
  "language_info": {
   "codemirror_mode": {
    "name": "ipython",
    "version": 3
   },
   "file_extension": ".py",
   "mimetype": "text/x-python",
   "name": "python",
   "nbconvert_exporter": "python",
   "pygments_lexer": "ipython3",
   "version": "3.7.6"
  }
 },
 "nbformat": 4,
 "nbformat_minor": 4
}
